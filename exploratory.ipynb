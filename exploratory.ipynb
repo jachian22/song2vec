{
 "cells": [
  {
   "cell_type": "code",
   "execution_count": 1,
   "metadata": {
    "collapsed": false
   },
   "outputs": [
    {
     "name": "stderr",
     "output_type": "stream",
     "text": [
      "/Users/jachian/anaconda/lib/python2.7/site-packages/gensim/utils.py:1015: UserWarning: Pattern library is not installed, lemmatization won't be available.\n",
      "  warnings.warn(\"Pattern library is not installed, lemmatization won't be available.\")\n"
     ]
    }
   ],
   "source": [
    "import numpy as np\n",
    "import pandas as pd\n",
    "import gensim as gs\n",
    "from gensim.models import Word2Vec"
   ]
  },
  {
   "cell_type": "code",
   "execution_count": 49,
   "metadata": {
    "collapsed": false
   },
   "outputs": [],
   "source": [
    "import utils\n",
    "reload(utils)\n",
    "from utils import *"
   ]
  },
  {
   "cell_type": "markdown",
   "metadata": {},
   "source": [
    "**Song ID to Vec**"
   ]
  },
  {
   "cell_type": "code",
   "execution_count": 59,
   "metadata": {
    "collapsed": false
   },
   "outputs": [
    {
     "name": "stdout",
     "output_type": "stream",
     "text": [
      "Loading the train data from the complete dataset\n"
     ]
    }
   ],
   "source": [
    "mtv = Music2Vec()\n",
    "pl_trimmed = mtv.clean_song2vec()\n",
    "model = Word2Vec(pl_trimmed, seed=1738)"
   ]
  },
  {
   "cell_type": "code",
   "execution_count": 60,
   "metadata": {
    "collapsed": false
   },
   "outputs": [
    {
     "name": "stdout",
     "output_type": "stream",
     "text": [
      "{'song': 'Go On Girl', 'artist': 'Ne-Yo'} \n",
      "\n",
      "352   {'song': \"I Ain't Mad At Cha (feat. Danny Boy)\", 'artist': '2Pac'}\n",
      "5776  {'song': \"U Don't Have To Call\", 'artist': 'Usher'}\n",
      "5877  {'song': 'All N My Grill (feat. Big Boi & Nicole)', 'artist': 'Missy Elliott'}\n",
      "21157 {'song': \"Bump N' Grind\", 'artist': 'R. Kelly'}\n",
      "5677  {'song': 'Bust It Baby Pt. 2 (feat. Ne-Yo)', 'artist': 'Plies'}\n",
      "5928  {'song': 'Rock The Boat', 'artist': 'Aaliyah'}\n",
      "5871  {'song': 'Around The Way Girl', 'artist': 'LL Cool J'}\n",
      "15632 {'song': \"Crush On You (feat. Lil' Cease & The Notorious B.I.G.)\", 'artist': \"Lil' Kim\"}\n",
      "11820 {'song': 'Hush Yuh Mouth', 'artist': 'Kenny J'}\n",
      "8675  {'song': 'Notorious Thugs (feat. Bone Thugs-N-Harmony)', 'artist': 'The Notorious B.I.G.'}\n",
      "26740 {'song': 'Summer Rain', 'artist': 'Carl Thomas'}\n",
      "9446  {'song': 'Loungin (Who Do Ya Luv) (feat. Total)', 'artist': 'LL Cool J'}\n",
      "8679  {'song': 'Fireman', 'artist': 'Lil Wayne'}\n",
      "324   {'song': \"Quiet Storm (feat. Lil' Kim)\", 'artist': 'Mobb Deep'}\n",
      "12238 {'song': 'What These Bitches Want (feat. Sisqo)', 'artist': 'DMX'}\n",
      "37955 {'song': 'Can U Help Me ', 'artist': 'Usher'}\n",
      "20    {'song': 'Your Love', 'artist': 'Nicki Minaj'}\n",
      "12282 {'song': 'O. P. P.', 'artist': 'Naughty By Nature'}\n",
      "22449 {'song': 'My Bad Thing', 'artist': 'Chucky'}\n",
      "9462  {'song': \"It's All About The Benjamins (feat. The LOX, Lil' Kim & Notorious B.I.G.)\", 'artist': 'Puff Daddy & The Family'}\n"
     ]
    }
   ],
   "source": [
    "print mtv.songs_lut[30], '\\n'\n",
    "for w in model.similar_by_word('30', topn=20):\n",
    "    print '{:<5} {}'.format(w[0], songs_hash[int(w[0])])"
   ]
  },
  {
   "cell_type": "markdown",
   "metadata": {
    "collapsed": true
   },
   "source": [
    "**Artist to Vec**"
   ]
  },
  {
   "cell_type": "code",
   "execution_count": 56,
   "metadata": {
    "collapsed": false
   },
   "outputs": [
    {
     "name": "stdout",
     "output_type": "stream",
     "text": [
      "Loading the train data from the complete dataset\n"
     ]
    }
   ],
   "source": [
    "mtv = Music2Vec()\n",
    "pl_trimmed = mtv.clean_artist2vec()\n",
    "model = Word2Vec(pl_trimmed, seed=1738)"
   ]
  },
  {
   "cell_type": "code",
   "execution_count": 58,
   "metadata": {
    "collapsed": false
   },
   "outputs": [
    {
     "name": "stdout",
     "output_type": "stream",
     "text": [
      "Ne-Yo \n",
      "\n",
      "('Next', 0.9471858739852905)\n",
      "('Ashanti', 0.928773045539856)\n",
      "('Zhane', 0.9183366298675537)\n",
      "('Brotherhood Creed', 0.9137588739395142)\n",
      "('Ryan Leslie', 0.910901665687561)\n",
      "('Fat Joe', 0.9102092981338501)\n",
      "('Omarion', 0.9092566967010498)\n",
      "('The Dream', 0.908247709274292)\n",
      "('Jagged Edge', 0.9071280360221863)\n",
      "('R.O.D.', 0.9040420055389404)\n",
      "('Az Yet', 0.9025079011917114)\n",
      "('Estelle', 0.9016826748847961)\n",
      "('J. Holiday', 0.9001600742340088)\n",
      "('Miguel', 0.9000563025474548)\n",
      "('Issac Hayes', 0.8974931240081787)\n",
      "('Ginuwine', 0.8953275680541992)\n",
      "('Groove Theory', 0.8944629430770874)\n",
      "('Mario', 0.8939054608345032)\n",
      "('Soul II Soul', 0.8913635611534119)\n",
      "('Tony Prescott', 0.8906656503677368)\n"
     ]
    }
   ],
   "source": [
    "print 'Ne-Yo', '\\n'\n",
    "for w in model.similar_by_word('Ne-Yo', topn=20):\n",
    "    print w"
   ]
  },
  {
   "cell_type": "code",
   "execution_count": null,
   "metadata": {
    "collapsed": true
   },
   "outputs": [],
   "source": []
  }
 ],
 "metadata": {
  "kernelspec": {
   "display_name": "Python 2",
   "language": "python",
   "name": "python2"
  },
  "language_info": {
   "codemirror_mode": {
    "name": "ipython",
    "version": 2
   },
   "file_extension": ".py",
   "mimetype": "text/x-python",
   "name": "python",
   "nbconvert_exporter": "python",
   "pygments_lexer": "ipython2",
   "version": "2.7.12"
  }
 },
 "nbformat": 4,
 "nbformat_minor": 1
}
