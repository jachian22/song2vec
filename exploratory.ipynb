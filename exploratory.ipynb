{
 "cells": [
  {
   "cell_type": "code",
   "execution_count": 10,
   "metadata": {
    "collapsed": false
   },
   "outputs": [],
   "source": [
    "import numpy as np\n",
    "import pandas as pd\n",
    "import gensim as gs\n",
    "from gensim.models import Word2Vec"
   ]
  },
  {
   "cell_type": "code",
   "execution_count": 43,
   "metadata": {
    "collapsed": false
   },
   "outputs": [],
   "source": [
    "import utils\n",
    "reload(utils)\n",
    "from utils import *"
   ]
  },
  {
   "cell_type": "markdown",
   "metadata": {
    "collapsed": true
   },
   "source": [
    "### Data Cleaning"
   ]
  },
  {
   "cell_type": "code",
   "execution_count": 53,
   "metadata": {
    "collapsed": true
   },
   "outputs": [],
   "source": [
    "songs_hash, tags_hash = create_hashes(size='complete')"
   ]
  },
  {
   "cell_type": "markdown",
   "metadata": {},
   "source": [
    "**Playlists**"
   ]
  },
  {
   "cell_type": "code",
   "execution_count": 54,
   "metadata": {
    "collapsed": false
   },
   "outputs": [
    {
     "name": "stdout",
     "output_type": "stream",
     "text": [
      "Loading the train data from the complete dataset\n"
     ]
    }
   ],
   "source": [
    "uu, ap, pl = get_data(size='complete', split='train')"
   ]
  },
  {
   "cell_type": "code",
   "execution_count": 55,
   "metadata": {
    "collapsed": true
   },
   "outputs": [],
   "source": [
    "pl_trimmed = clean_song2vec(pl)"
   ]
  },
  {
   "cell_type": "code",
   "execution_count": 59,
   "metadata": {
    "collapsed": false
   },
   "outputs": [],
   "source": [
    "model = Word2Vec(pl_trimmed, seed=1738)"
   ]
  },
  {
   "cell_type": "code",
   "execution_count": 57,
   "metadata": {
    "collapsed": false
   },
   "outputs": [
    {
     "data": {
      "text/plain": [
       "{'artist': 'Ne-Yo', 'song': 'Go On Girl'}"
      ]
     },
     "execution_count": 57,
     "metadata": {},
     "output_type": "execute_result"
    }
   ],
   "source": [
    "songs_hash[30]"
   ]
  },
  {
   "cell_type": "code",
   "execution_count": 60,
   "metadata": {
    "collapsed": false
   },
   "outputs": [
    {
     "name": "stdout",
     "output_type": "stream",
     "text": [
      "22511 {'song': 'Consider It Done', 'artist': 'Fay-Ann Lyons'}\n",
      "108   {'song': '#1 Thing', 'artist': 'Amerie'}\n",
      "12279 {'song': 'How U Bad So', 'artist': 'Busy Signal'}\n",
      "39597 {'song': 'Angels Cry', 'artist': 'Mariah Carey'}\n",
      "27324 {'song': 'The Whole World (feat. Killer Mike)', 'artist': 'Outkast'}\n",
      "50713 {'song': 'Gal A Mad Ova', 'artist': 'Mavado'}\n",
      "22449 {'song': 'My Bad Thing', 'artist': 'Chucky'}\n",
      "12586 {'song': 'When I See U', 'artist': 'Fantasia'}\n",
      "12084 {'song': 'I Am Blessed', 'artist': 'Mr. Vegas'}\n",
      "15632 {'song': \"Crush On You (feat. Lil' Cease & The Notorious B.I.G.)\", 'artist': \"Lil' Kim\"}\n",
      "22531 {'song': 'Flirt', 'artist': 'Farmer Nappy'}\n",
      "41434 {'song': 'Benz Punany', 'artist': 'Vybz Kartel'}\n",
      "25829 {'song': 'Long Way Down', 'artist': 'Keyshia Cole'}\n",
      "98    {'song': 'Successful (feat. Trey Songz)', 'artist': 'Drake'}\n",
      "95    {'song': 'I Know (feat. Pharrell)', 'artist': 'Jay-Z'}\n",
      "380   {'song': 'Diamond Girl', 'artist': 'Ryan Leslie'}\n",
      "12282 {'song': 'O. P. P.', 'artist': 'Naughty By Nature'}\n",
      "41    {'song': 'Get Busy', 'artist': 'Sean Paul'}\n",
      "6815  {'song': \"Can't Leave 'Em Alone (feat. 50 Cent)\", 'artist': 'Ciara'}\n",
      "12135 {'song': 'Down 4 U (feat. Vita & Charli Baltimore)', 'artist': 'Ja Rule & Ashanti'}\n"
     ]
    }
   ],
   "source": [
    "for w in model.similar_by_word('30', topn=20):\n",
    "    print '{:<5} {}'.format(w[0], songs_hash[int(w[0])])"
   ]
  },
  {
   "cell_type": "code",
   "execution_count": null,
   "metadata": {
    "collapsed": true
   },
   "outputs": [],
   "source": []
  }
 ],
 "metadata": {
  "kernelspec": {
   "display_name": "Python 2",
   "language": "python",
   "name": "python2"
  },
  "language_info": {
   "codemirror_mode": {
    "name": "ipython",
    "version": 2
   },
   "file_extension": ".py",
   "mimetype": "text/x-python",
   "name": "python",
   "nbconvert_exporter": "python",
   "pygments_lexer": "ipython2",
   "version": "2.7.12"
  }
 },
 "nbformat": 4,
 "nbformat_minor": 1
}
